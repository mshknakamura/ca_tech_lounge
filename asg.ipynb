{
 "cells": [
  {
   "attachments": {},
   "cell_type": "markdown",
   "metadata": {},
   "source": [
    "# 課題1：デーブルデータ"
   ]
  },
  {
   "attachments": {},
   "cell_type": "markdown",
   "metadata": {},
   "source": [
    "## 課題"
   ]
  },
  {
   "attachments": {},
   "cell_type": "markdown",
   "metadata": {},
   "source": [
    "covertypeデータセットを使って、  \n",
    "気候や標高などの環境条件から、  \n",
    "森林を占める木の種類を予測する多クラス分類問題を解いてください。"
   ]
  },
  {
   "attachments": {},
   "cell_type": "markdown",
   "metadata": {},
   "source": [
    "### 問1"
   ]
  },
  {
   "attachments": {},
   "cell_type": "markdown",
   "metadata": {},
   "source": [
    "##### インポート"
   ]
  },
  {
   "cell_type": "code",
   "execution_count": null,
   "metadata": {},
   "outputs": [],
   "source": [
    "import pandas as pd\n",
    "import numpy as np\n",
    "import matplotlib.pyplot as plt\n",
    "import seaborn as sns\n",
    "import japanize_matplotlib\n",
    "\n",
    "plt.style.use('seaborn-whitegrid')\n",
    "plt.rcParams['font.family'] = 'IPAexGothic'\n",
    "plt.rcParams['font.size'] = 15"
   ]
  },
  {
   "attachments": {},
   "cell_type": "markdown",
   "metadata": {},
   "source": [
    "##### データ読み取り"
   ]
  },
  {
   "cell_type": "code",
   "execution_count": null,
   "metadata": {},
   "outputs": [],
   "source": [
    "# データセットの読み込み\n",
    "from sklearn.datasets import fetch_covtype\n",
    "covtype = fetch_covtype()\n",
    "\n",
    "#説明変数\n",
    "X_array = covtype.data\n",
    "#結果変数\n",
    "y_array = covtype.target"
   ]
  },
  {
   "attachments": {},
   "cell_type": "markdown",
   "metadata": {},
   "source": [
    "###### データ確認"
   ]
  },
  {
   "cell_type": "code",
   "execution_count": null,
   "metadata": {},
   "outputs": [],
   "source": [
    "for i in (0,-1,1000):\n",
    "    print(X_array[i])"
   ]
  },
  {
   "cell_type": "code",
   "execution_count": null,
   "metadata": {},
   "outputs": [],
   "source": [
    "for i in (0,-1,1000):\n",
    "    print(y_array[i])"
   ]
  },
  {
   "attachments": {},
   "cell_type": "markdown",
   "metadata": {},
   "source": [
    "##### 説明変数、目的変数を統合してDataFrame化"
   ]
  },
  {
   "cell_type": "code",
   "execution_count": null,
   "metadata": {},
   "outputs": [],
   "source": [
    "import pandas as pd\n",
    "import numpy as np\n",
    "from pandas import DataFrame\n",
    "\n",
    "df = DataFrame(X_array, columns = covtype.feature_names).assign(TYPE=np.array(y_array))"
   ]
  },
  {
   "attachments": {},
   "cell_type": "markdown",
   "metadata": {},
   "source": [
    "###### ヘッダ出力で確認"
   ]
  },
  {
   "cell_type": "code",
   "execution_count": null,
   "metadata": {},
   "outputs": [],
   "source": [
    "# ヘッダ出力\n",
    "df.head"
   ]
  },
  {
   "attachments": {},
   "cell_type": "markdown",
   "metadata": {},
   "source": [
    "##### 線形回帰"
   ]
  },
  {
   "cell_type": "code",
   "execution_count": null,
   "metadata": {},
   "outputs": [],
   "source": [
    "import pandas as pd\n",
    "import numpy as np\n",
    "from pandas import DataFrame\n",
    "from sklearn.datasets import fetch_covtype\n",
    "from sklearn.linear_model import LinearRegression\n",
    "from sklearn.model_selection import KFold\n",
    "from sklearn.metrics import r2_score\n",
    "\n",
    "# データセットの読み込み\n",
    "covtype = fetch_covtype()\n",
    "\n",
    "#説明変数\n",
    "X_array = covtype.data\n",
    "#目的変数\n",
    "y_array = covtype.target\n",
    "\n",
    "df = DataFrame(X_array, columns=covtype.feature_names).assign(TYPE=np.array(y_array))\n",
    "\n",
    "# 線形回帰モデルを作成\n",
    "model = LinearRegression()\n",
    "\n",
    "# K-分割交差検証法のパラメータ設定\n",
    "k = 5\n",
    "kf = KFold(n_splits=k, shuffle=True, random_state=42)\n",
    "\n",
    "# 予測精度を格納するリスト\n",
    "scores = []\n",
    "\n",
    "# K-分割交差検証法の実行\n",
    "for train_index, test_index in kf.split(X_array, y_array):\n",
    "    X_train, X_test = X_array[train_index], X_array[test_index]\n",
    "    y_train, y_test = y_array[train_index], y_array[test_index]\n",
    "\n",
    "    # モデルを学習\n",
    "    model.fit(X_train, y_train)\n",
    "\n",
    "    # テストデータを用いて予測\n",
    "    y_pred = model.predict(X_test)\n",
    "\n",
    "    # 予測精度を計算 (決定係数 R^2)\n",
    "    score = r2_score(y_test, y_pred)\n",
    "\n",
    "    # 予測精度をリストに追加\n",
    "    scores.append(score)\n",
    "\n",
    "# リスト表示\n",
    "print(scores)\n",
    "# 予測精度の平均値を表示\n",
    "print(f\"R^2(決定係数)の平均値: {np.mean(scores)}\")\n"
   ]
  },
  {
   "attachments": {},
   "cell_type": "markdown",
   "metadata": {},
   "source": [
    "##### 決定木回帰"
   ]
  },
  {
   "cell_type": "code",
   "execution_count": null,
   "metadata": {},
   "outputs": [],
   "source": [
    "import pandas as pd\n",
    "import numpy as np\n",
    "from pandas import DataFrame\n",
    "from sklearn.datasets import fetch_covtype\n",
    "from sklearn.tree import DecisionTreeRegressor  # 決定木回帰のインポート\n",
    "from sklearn.model_selection import KFold\n",
    "from sklearn.metrics import r2_score\n",
    "\n",
    "# データセットの読み込み\n",
    "covtype = fetch_covtype()\n",
    "\n",
    "#説明変数\n",
    "X_array = covtype.data\n",
    "#目的変数\n",
    "y_array = covtype.target\n",
    "\n",
    "df = DataFrame(X_array, columns=covtype.feature_names).assign(TYPE=np.array(y_array))\n",
    "\n",
    "# 決定木回帰モデルを作成\n",
    "model = DecisionTreeRegressor(random_state=42)  # 線形回帰から決定木回帰に変更\n",
    "\n",
    "# K-分割交差検証法のパラメータ設定\n",
    "k = 5\n",
    "kf = KFold(n_splits=k, shuffle=True, random_state=42)\n",
    "\n",
    "# 予測精度を格納するリスト\n",
    "scores = []\n",
    "\n",
    "# K-分割交差検証法の実行\n",
    "for train_index, test_index in kf.split(X_array, y_array):\n",
    "    X_train, X_test = X_array[train_index], X_array[test_index]\n",
    "    y_train, y_test = y_array[train_index], y_array[test_index]\n",
    "\n",
    "    # モデルを学習\n",
    "    model.fit(X_train, y_train)\n",
    "\n",
    "    # テストデータを用いて予測\n",
    "    y_pred = model.predict(X_test)\n",
    "\n",
    "    # 予測精度を計算 (決定係数 R^2)\n",
    "    score = r2_score(y_test, y_pred)\n",
    "\n",
    "    # 予測精度をリストに追加\n",
    "    scores.append(score)\n",
    "\n",
    "# リスト表示\n",
    "print(scores)\n",
    "# 予測精度の平均値を表示\n",
    "print(f\"R^2(決定係数)の平均値: {np.mean(scores)}\")"
   ]
  },
  {
   "attachments": {},
   "cell_type": "markdown",
   "metadata": {},
   "source": [
    "###### 決定木の可視化"
   ]
  },
  {
   "cell_type": "code",
   "execution_count": null,
   "metadata": {},
   "outputs": [],
   "source": [
    "# 決定木をテキストで表示\n",
    "tree_text = export_text(model, feature_names=covtype.feature_names)\n",
    "print(tree_text)"
   ]
  },
  {
   "attachments": {},
   "cell_type": "markdown",
   "metadata": {},
   "source": [
    "##### ランダムフォレスト(長いため動かさず)"
   ]
  },
  {
   "cell_type": "code",
   "execution_count": 1,
   "metadata": {},
   "outputs": [
    {
     "ename": "KeyboardInterrupt",
     "evalue": "",
     "output_type": "error",
     "traceback": [
      "\u001b[1;31m---------------------------------------------------------------------------\u001b[0m",
      "\u001b[1;31mKeyboardInterrupt\u001b[0m                         Traceback (most recent call last)",
      "Cell \u001b[1;32mIn[1], line 35\u001b[0m\n\u001b[0;32m     32\u001b[0m y_train, y_test \u001b[39m=\u001b[39m y_array[train_index], y_array[test_index]\n\u001b[0;32m     34\u001b[0m \u001b[39m# モデルを学習\u001b[39;00m\n\u001b[1;32m---> 35\u001b[0m model\u001b[39m.\u001b[39;49mfit(X_train, y_train)\n\u001b[0;32m     37\u001b[0m \u001b[39m# テストデータを用いて予測\u001b[39;00m\n\u001b[0;32m     38\u001b[0m y_pred \u001b[39m=\u001b[39m model\u001b[39m.\u001b[39mpredict(X_test)\n",
      "File \u001b[1;32mc:\\Users\\nkmrm\\AppData\\Local\\Programs\\Python\\Python310\\lib\\site-packages\\sklearn\\ensemble\\_forest.py:473\u001b[0m, in \u001b[0;36mBaseForest.fit\u001b[1;34m(self, X, y, sample_weight)\u001b[0m\n\u001b[0;32m    462\u001b[0m trees \u001b[39m=\u001b[39m [\n\u001b[0;32m    463\u001b[0m     \u001b[39mself\u001b[39m\u001b[39m.\u001b[39m_make_estimator(append\u001b[39m=\u001b[39m\u001b[39mFalse\u001b[39;00m, random_state\u001b[39m=\u001b[39mrandom_state)\n\u001b[0;32m    464\u001b[0m     \u001b[39mfor\u001b[39;00m i \u001b[39min\u001b[39;00m \u001b[39mrange\u001b[39m(n_more_estimators)\n\u001b[0;32m    465\u001b[0m ]\n\u001b[0;32m    467\u001b[0m \u001b[39m# Parallel loop: we prefer the threading backend as the Cython code\u001b[39;00m\n\u001b[0;32m    468\u001b[0m \u001b[39m# for fitting the trees is internally releasing the Python GIL\u001b[39;00m\n\u001b[0;32m    469\u001b[0m \u001b[39m# making threading more efficient than multiprocessing in\u001b[39;00m\n\u001b[0;32m    470\u001b[0m \u001b[39m# that case. However, for joblib 0.12+ we respect any\u001b[39;00m\n\u001b[0;32m    471\u001b[0m \u001b[39m# parallel_backend contexts set at a higher level,\u001b[39;00m\n\u001b[0;32m    472\u001b[0m \u001b[39m# since correctness does not rely on using threads.\u001b[39;00m\n\u001b[1;32m--> 473\u001b[0m trees \u001b[39m=\u001b[39m Parallel(\n\u001b[0;32m    474\u001b[0m     n_jobs\u001b[39m=\u001b[39;49m\u001b[39mself\u001b[39;49m\u001b[39m.\u001b[39;49mn_jobs,\n\u001b[0;32m    475\u001b[0m     verbose\u001b[39m=\u001b[39;49m\u001b[39mself\u001b[39;49m\u001b[39m.\u001b[39;49mverbose,\n\u001b[0;32m    476\u001b[0m     prefer\u001b[39m=\u001b[39;49m\u001b[39m\"\u001b[39;49m\u001b[39mthreads\u001b[39;49m\u001b[39m\"\u001b[39;49m,\n\u001b[0;32m    477\u001b[0m )(\n\u001b[0;32m    478\u001b[0m     delayed(_parallel_build_trees)(\n\u001b[0;32m    479\u001b[0m         t,\n\u001b[0;32m    480\u001b[0m         \u001b[39mself\u001b[39;49m\u001b[39m.\u001b[39;49mbootstrap,\n\u001b[0;32m    481\u001b[0m         X,\n\u001b[0;32m    482\u001b[0m         y,\n\u001b[0;32m    483\u001b[0m         sample_weight,\n\u001b[0;32m    484\u001b[0m         i,\n\u001b[0;32m    485\u001b[0m         \u001b[39mlen\u001b[39;49m(trees),\n\u001b[0;32m    486\u001b[0m         verbose\u001b[39m=\u001b[39;49m\u001b[39mself\u001b[39;49m\u001b[39m.\u001b[39;49mverbose,\n\u001b[0;32m    487\u001b[0m         class_weight\u001b[39m=\u001b[39;49m\u001b[39mself\u001b[39;49m\u001b[39m.\u001b[39;49mclass_weight,\n\u001b[0;32m    488\u001b[0m         n_samples_bootstrap\u001b[39m=\u001b[39;49mn_samples_bootstrap,\n\u001b[0;32m    489\u001b[0m     )\n\u001b[0;32m    490\u001b[0m     \u001b[39mfor\u001b[39;49;00m i, t \u001b[39min\u001b[39;49;00m \u001b[39menumerate\u001b[39;49m(trees)\n\u001b[0;32m    491\u001b[0m )\n\u001b[0;32m    493\u001b[0m \u001b[39m# Collect newly grown trees\u001b[39;00m\n\u001b[0;32m    494\u001b[0m \u001b[39mself\u001b[39m\u001b[39m.\u001b[39mestimators_\u001b[39m.\u001b[39mextend(trees)\n",
      "File \u001b[1;32mc:\\Users\\nkmrm\\AppData\\Local\\Programs\\Python\\Python310\\lib\\site-packages\\sklearn\\utils\\parallel.py:63\u001b[0m, in \u001b[0;36mParallel.__call__\u001b[1;34m(self, iterable)\u001b[0m\n\u001b[0;32m     58\u001b[0m config \u001b[39m=\u001b[39m get_config()\n\u001b[0;32m     59\u001b[0m iterable_with_config \u001b[39m=\u001b[39m (\n\u001b[0;32m     60\u001b[0m     (_with_config(delayed_func, config), args, kwargs)\n\u001b[0;32m     61\u001b[0m     \u001b[39mfor\u001b[39;00m delayed_func, args, kwargs \u001b[39min\u001b[39;00m iterable\n\u001b[0;32m     62\u001b[0m )\n\u001b[1;32m---> 63\u001b[0m \u001b[39mreturn\u001b[39;00m \u001b[39msuper\u001b[39;49m()\u001b[39m.\u001b[39;49m\u001b[39m__call__\u001b[39;49m(iterable_with_config)\n",
      "File \u001b[1;32mc:\\Users\\nkmrm\\AppData\\Local\\Programs\\Python\\Python310\\lib\\site-packages\\joblib\\parallel.py:1088\u001b[0m, in \u001b[0;36mParallel.__call__\u001b[1;34m(self, iterable)\u001b[0m\n\u001b[0;32m   1085\u001b[0m \u001b[39mif\u001b[39;00m \u001b[39mself\u001b[39m\u001b[39m.\u001b[39mdispatch_one_batch(iterator):\n\u001b[0;32m   1086\u001b[0m     \u001b[39mself\u001b[39m\u001b[39m.\u001b[39m_iterating \u001b[39m=\u001b[39m \u001b[39mself\u001b[39m\u001b[39m.\u001b[39m_original_iterator \u001b[39mis\u001b[39;00m \u001b[39mnot\u001b[39;00m \u001b[39mNone\u001b[39;00m\n\u001b[1;32m-> 1088\u001b[0m \u001b[39mwhile\u001b[39;00m \u001b[39mself\u001b[39;49m\u001b[39m.\u001b[39;49mdispatch_one_batch(iterator):\n\u001b[0;32m   1089\u001b[0m     \u001b[39mpass\u001b[39;00m\n\u001b[0;32m   1091\u001b[0m \u001b[39mif\u001b[39;00m pre_dispatch \u001b[39m==\u001b[39m \u001b[39m\"\u001b[39m\u001b[39mall\u001b[39m\u001b[39m\"\u001b[39m \u001b[39mor\u001b[39;00m n_jobs \u001b[39m==\u001b[39m \u001b[39m1\u001b[39m:\n\u001b[0;32m   1092\u001b[0m     \u001b[39m# The iterable was consumed all at once by the above for loop.\u001b[39;00m\n\u001b[0;32m   1093\u001b[0m     \u001b[39m# No need to wait for async callbacks to trigger to\u001b[39;00m\n\u001b[0;32m   1094\u001b[0m     \u001b[39m# consumption.\u001b[39;00m\n",
      "File \u001b[1;32mc:\\Users\\nkmrm\\AppData\\Local\\Programs\\Python\\Python310\\lib\\site-packages\\joblib\\parallel.py:901\u001b[0m, in \u001b[0;36mParallel.dispatch_one_batch\u001b[1;34m(self, iterator)\u001b[0m\n\u001b[0;32m    899\u001b[0m     \u001b[39mreturn\u001b[39;00m \u001b[39mFalse\u001b[39;00m\n\u001b[0;32m    900\u001b[0m \u001b[39melse\u001b[39;00m:\n\u001b[1;32m--> 901\u001b[0m     \u001b[39mself\u001b[39;49m\u001b[39m.\u001b[39;49m_dispatch(tasks)\n\u001b[0;32m    902\u001b[0m     \u001b[39mreturn\u001b[39;00m \u001b[39mTrue\u001b[39;00m\n",
      "File \u001b[1;32mc:\\Users\\nkmrm\\AppData\\Local\\Programs\\Python\\Python310\\lib\\site-packages\\joblib\\parallel.py:819\u001b[0m, in \u001b[0;36mParallel._dispatch\u001b[1;34m(self, batch)\u001b[0m\n\u001b[0;32m    817\u001b[0m \u001b[39mwith\u001b[39;00m \u001b[39mself\u001b[39m\u001b[39m.\u001b[39m_lock:\n\u001b[0;32m    818\u001b[0m     job_idx \u001b[39m=\u001b[39m \u001b[39mlen\u001b[39m(\u001b[39mself\u001b[39m\u001b[39m.\u001b[39m_jobs)\n\u001b[1;32m--> 819\u001b[0m     job \u001b[39m=\u001b[39m \u001b[39mself\u001b[39;49m\u001b[39m.\u001b[39;49m_backend\u001b[39m.\u001b[39;49mapply_async(batch, callback\u001b[39m=\u001b[39;49mcb)\n\u001b[0;32m    820\u001b[0m     \u001b[39m# A job can complete so quickly than its callback is\u001b[39;00m\n\u001b[0;32m    821\u001b[0m     \u001b[39m# called before we get here, causing self._jobs to\u001b[39;00m\n\u001b[0;32m    822\u001b[0m     \u001b[39m# grow. To ensure correct results ordering, .insert is\u001b[39;00m\n\u001b[0;32m    823\u001b[0m     \u001b[39m# used (rather than .append) in the following line\u001b[39;00m\n\u001b[0;32m    824\u001b[0m     \u001b[39mself\u001b[39m\u001b[39m.\u001b[39m_jobs\u001b[39m.\u001b[39minsert(job_idx, job)\n",
      "File \u001b[1;32mc:\\Users\\nkmrm\\AppData\\Local\\Programs\\Python\\Python310\\lib\\site-packages\\joblib\\_parallel_backends.py:208\u001b[0m, in \u001b[0;36mSequentialBackend.apply_async\u001b[1;34m(self, func, callback)\u001b[0m\n\u001b[0;32m    206\u001b[0m \u001b[39mdef\u001b[39;00m \u001b[39mapply_async\u001b[39m(\u001b[39mself\u001b[39m, func, callback\u001b[39m=\u001b[39m\u001b[39mNone\u001b[39;00m):\n\u001b[0;32m    207\u001b[0m \u001b[39m    \u001b[39m\u001b[39m\"\"\"Schedule a func to be run\"\"\"\u001b[39;00m\n\u001b[1;32m--> 208\u001b[0m     result \u001b[39m=\u001b[39m ImmediateResult(func)\n\u001b[0;32m    209\u001b[0m     \u001b[39mif\u001b[39;00m callback:\n\u001b[0;32m    210\u001b[0m         callback(result)\n",
      "File \u001b[1;32mc:\\Users\\nkmrm\\AppData\\Local\\Programs\\Python\\Python310\\lib\\site-packages\\joblib\\_parallel_backends.py:597\u001b[0m, in \u001b[0;36mImmediateResult.__init__\u001b[1;34m(self, batch)\u001b[0m\n\u001b[0;32m    594\u001b[0m \u001b[39mdef\u001b[39;00m \u001b[39m__init__\u001b[39m(\u001b[39mself\u001b[39m, batch):\n\u001b[0;32m    595\u001b[0m     \u001b[39m# Don't delay the application, to avoid keeping the input\u001b[39;00m\n\u001b[0;32m    596\u001b[0m     \u001b[39m# arguments in memory\u001b[39;00m\n\u001b[1;32m--> 597\u001b[0m     \u001b[39mself\u001b[39m\u001b[39m.\u001b[39mresults \u001b[39m=\u001b[39m batch()\n",
      "File \u001b[1;32mc:\\Users\\nkmrm\\AppData\\Local\\Programs\\Python\\Python310\\lib\\site-packages\\joblib\\parallel.py:288\u001b[0m, in \u001b[0;36mBatchedCalls.__call__\u001b[1;34m(self)\u001b[0m\n\u001b[0;32m    284\u001b[0m \u001b[39mdef\u001b[39;00m \u001b[39m__call__\u001b[39m(\u001b[39mself\u001b[39m):\n\u001b[0;32m    285\u001b[0m     \u001b[39m# Set the default nested backend to self._backend but do not set the\u001b[39;00m\n\u001b[0;32m    286\u001b[0m     \u001b[39m# change the default number of processes to -1\u001b[39;00m\n\u001b[0;32m    287\u001b[0m     \u001b[39mwith\u001b[39;00m parallel_backend(\u001b[39mself\u001b[39m\u001b[39m.\u001b[39m_backend, n_jobs\u001b[39m=\u001b[39m\u001b[39mself\u001b[39m\u001b[39m.\u001b[39m_n_jobs):\n\u001b[1;32m--> 288\u001b[0m         \u001b[39mreturn\u001b[39;00m [func(\u001b[39m*\u001b[39margs, \u001b[39m*\u001b[39m\u001b[39m*\u001b[39mkwargs)\n\u001b[0;32m    289\u001b[0m                 \u001b[39mfor\u001b[39;00m func, args, kwargs \u001b[39min\u001b[39;00m \u001b[39mself\u001b[39m\u001b[39m.\u001b[39mitems]\n",
      "File \u001b[1;32mc:\\Users\\nkmrm\\AppData\\Local\\Programs\\Python\\Python310\\lib\\site-packages\\joblib\\parallel.py:288\u001b[0m, in \u001b[0;36m<listcomp>\u001b[1;34m(.0)\u001b[0m\n\u001b[0;32m    284\u001b[0m \u001b[39mdef\u001b[39;00m \u001b[39m__call__\u001b[39m(\u001b[39mself\u001b[39m):\n\u001b[0;32m    285\u001b[0m     \u001b[39m# Set the default nested backend to self._backend but do not set the\u001b[39;00m\n\u001b[0;32m    286\u001b[0m     \u001b[39m# change the default number of processes to -1\u001b[39;00m\n\u001b[0;32m    287\u001b[0m     \u001b[39mwith\u001b[39;00m parallel_backend(\u001b[39mself\u001b[39m\u001b[39m.\u001b[39m_backend, n_jobs\u001b[39m=\u001b[39m\u001b[39mself\u001b[39m\u001b[39m.\u001b[39m_n_jobs):\n\u001b[1;32m--> 288\u001b[0m         \u001b[39mreturn\u001b[39;00m [func(\u001b[39m*\u001b[39margs, \u001b[39m*\u001b[39m\u001b[39m*\u001b[39mkwargs)\n\u001b[0;32m    289\u001b[0m                 \u001b[39mfor\u001b[39;00m func, args, kwargs \u001b[39min\u001b[39;00m \u001b[39mself\u001b[39m\u001b[39m.\u001b[39mitems]\n",
      "File \u001b[1;32mc:\\Users\\nkmrm\\AppData\\Local\\Programs\\Python\\Python310\\lib\\site-packages\\sklearn\\utils\\parallel.py:123\u001b[0m, in \u001b[0;36m_FuncWrapper.__call__\u001b[1;34m(self, *args, **kwargs)\u001b[0m\n\u001b[0;32m    121\u001b[0m     config \u001b[39m=\u001b[39m {}\n\u001b[0;32m    122\u001b[0m \u001b[39mwith\u001b[39;00m config_context(\u001b[39m*\u001b[39m\u001b[39m*\u001b[39mconfig):\n\u001b[1;32m--> 123\u001b[0m     \u001b[39mreturn\u001b[39;00m \u001b[39mself\u001b[39m\u001b[39m.\u001b[39mfunction(\u001b[39m*\u001b[39margs, \u001b[39m*\u001b[39m\u001b[39m*\u001b[39mkwargs)\n",
      "File \u001b[1;32mc:\\Users\\nkmrm\\AppData\\Local\\Programs\\Python\\Python310\\lib\\site-packages\\sklearn\\ensemble\\_forest.py:184\u001b[0m, in \u001b[0;36m_parallel_build_trees\u001b[1;34m(tree, bootstrap, X, y, sample_weight, tree_idx, n_trees, verbose, class_weight, n_samples_bootstrap)\u001b[0m\n\u001b[0;32m    181\u001b[0m     \u001b[39melif\u001b[39;00m class_weight \u001b[39m==\u001b[39m \u001b[39m\"\u001b[39m\u001b[39mbalanced_subsample\u001b[39m\u001b[39m\"\u001b[39m:\n\u001b[0;32m    182\u001b[0m         curr_sample_weight \u001b[39m*\u001b[39m\u001b[39m=\u001b[39m compute_sample_weight(\u001b[39m\"\u001b[39m\u001b[39mbalanced\u001b[39m\u001b[39m\"\u001b[39m, y, indices\u001b[39m=\u001b[39mindices)\n\u001b[1;32m--> 184\u001b[0m     tree\u001b[39m.\u001b[39;49mfit(X, y, sample_weight\u001b[39m=\u001b[39;49mcurr_sample_weight, check_input\u001b[39m=\u001b[39;49m\u001b[39mFalse\u001b[39;49;00m)\n\u001b[0;32m    185\u001b[0m \u001b[39melse\u001b[39;00m:\n\u001b[0;32m    186\u001b[0m     tree\u001b[39m.\u001b[39mfit(X, y, sample_weight\u001b[39m=\u001b[39msample_weight, check_input\u001b[39m=\u001b[39m\u001b[39mFalse\u001b[39;00m)\n",
      "File \u001b[1;32mc:\\Users\\nkmrm\\AppData\\Local\\Programs\\Python\\Python310\\lib\\site-packages\\sklearn\\tree\\_classes.py:1247\u001b[0m, in \u001b[0;36mDecisionTreeRegressor.fit\u001b[1;34m(self, X, y, sample_weight, check_input)\u001b[0m\n\u001b[0;32m   1218\u001b[0m \u001b[39mdef\u001b[39;00m \u001b[39mfit\u001b[39m(\u001b[39mself\u001b[39m, X, y, sample_weight\u001b[39m=\u001b[39m\u001b[39mNone\u001b[39;00m, check_input\u001b[39m=\u001b[39m\u001b[39mTrue\u001b[39;00m):\n\u001b[0;32m   1219\u001b[0m \u001b[39m    \u001b[39m\u001b[39m\"\"\"Build a decision tree regressor from the training set (X, y).\u001b[39;00m\n\u001b[0;32m   1220\u001b[0m \n\u001b[0;32m   1221\u001b[0m \u001b[39m    Parameters\u001b[39;00m\n\u001b[1;32m   (...)\u001b[0m\n\u001b[0;32m   1244\u001b[0m \u001b[39m        Fitted estimator.\u001b[39;00m\n\u001b[0;32m   1245\u001b[0m \u001b[39m    \"\"\"\u001b[39;00m\n\u001b[1;32m-> 1247\u001b[0m     \u001b[39msuper\u001b[39;49m()\u001b[39m.\u001b[39;49mfit(\n\u001b[0;32m   1248\u001b[0m         X,\n\u001b[0;32m   1249\u001b[0m         y,\n\u001b[0;32m   1250\u001b[0m         sample_weight\u001b[39m=\u001b[39;49msample_weight,\n\u001b[0;32m   1251\u001b[0m         check_input\u001b[39m=\u001b[39;49mcheck_input,\n\u001b[0;32m   1252\u001b[0m     )\n\u001b[0;32m   1253\u001b[0m     \u001b[39mreturn\u001b[39;00m \u001b[39mself\u001b[39m\n",
      "File \u001b[1;32mc:\\Users\\nkmrm\\AppData\\Local\\Programs\\Python\\Python310\\lib\\site-packages\\sklearn\\tree\\_classes.py:379\u001b[0m, in \u001b[0;36mBaseDecisionTree.fit\u001b[1;34m(self, X, y, sample_weight, check_input)\u001b[0m\n\u001b[0;32m    368\u001b[0m \u001b[39melse\u001b[39;00m:\n\u001b[0;32m    369\u001b[0m     builder \u001b[39m=\u001b[39m BestFirstTreeBuilder(\n\u001b[0;32m    370\u001b[0m         splitter,\n\u001b[0;32m    371\u001b[0m         min_samples_split,\n\u001b[1;32m   (...)\u001b[0m\n\u001b[0;32m    376\u001b[0m         \u001b[39mself\u001b[39m\u001b[39m.\u001b[39mmin_impurity_decrease,\n\u001b[0;32m    377\u001b[0m     )\n\u001b[1;32m--> 379\u001b[0m builder\u001b[39m.\u001b[39;49mbuild(\u001b[39mself\u001b[39;49m\u001b[39m.\u001b[39;49mtree_, X, y, sample_weight)\n\u001b[0;32m    381\u001b[0m \u001b[39mif\u001b[39;00m \u001b[39mself\u001b[39m\u001b[39m.\u001b[39mn_outputs_ \u001b[39m==\u001b[39m \u001b[39m1\u001b[39m \u001b[39mand\u001b[39;00m is_classifier(\u001b[39mself\u001b[39m):\n\u001b[0;32m    382\u001b[0m     \u001b[39mself\u001b[39m\u001b[39m.\u001b[39mn_classes_ \u001b[39m=\u001b[39m \u001b[39mself\u001b[39m\u001b[39m.\u001b[39mn_classes_[\u001b[39m0\u001b[39m]\n",
      "\u001b[1;31mKeyboardInterrupt\u001b[0m: "
     ]
    }
   ],
   "source": [
    "import pandas as pd\n",
    "import numpy as np\n",
    "from pandas import DataFrame\n",
    "from sklearn.datasets import fetch_covtype\n",
    "from sklearn.ensemble import RandomForestRegressor  # ランダムフォレストのインポート\n",
    "from sklearn.model_selection import KFold\n",
    "from sklearn.metrics import r2_score\n",
    "\n",
    "# データセットの読み込み\n",
    "covtype = fetch_covtype()\n",
    "\n",
    "#説明変数\n",
    "X_array = covtype.data\n",
    "#目的変数\n",
    "y_array = covtype.target\n",
    "\n",
    "df = DataFrame(X_array, columns=covtype.feature_names).assign(TYPE=np.array(y_array))\n",
    "\n",
    "# ランダムフォレスト回帰モデルを作成\n",
    "model = RandomForestRegressor(random_state=42)  # 決定木回帰からランダムフォレストに変更\n",
    "\n",
    "# K-分割交差検証法のパラメータ設定\n",
    "k = 5\n",
    "kf = KFold(n_splits=k, shuffle=True, random_state=42)\n",
    "\n",
    "# 予測精度を格納するリスト\n",
    "scores = []\n",
    "\n",
    "# K-分割交差検証法の実行\n",
    "for train_index, test_index in kf.split(X_array, y_array):\n",
    "    X_train, X_test = X_array[train_index], X_array[test_index]\n",
    "    y_train, y_test = y_array[train_index], y_array[test_index]\n",
    "\n",
    "    # モデルを学習\n",
    "    model.fit(X_train, y_train)\n",
    "\n",
    "    # テストデータを用いて予測\n",
    "    y_pred = model.predict(X_test)\n",
    "\n",
    "    # 予測精度を計算 (決定係数 R^2)\n",
    "    score = r2_score(y_test, y_pred)\n",
    "\n",
    "    # 予測精度をリストに追加\n",
    "    scores.append(score)\n",
    "\n",
    "# リスト表示\n",
    "print(scores)\n",
    "# 予測精度の平均値を表示\n",
    "print(f\"R^2(決定係数)の平均値: {np.mean(scores)}\")"
   ]
  },
  {
   "attachments": {},
   "cell_type": "markdown",
   "metadata": {},
   "source": [
    "###### 特徴量の重要度(テキスト型)"
   ]
  },
  {
   "cell_type": "code",
   "execution_count": null,
   "metadata": {},
   "outputs": [],
   "source": [
    "import pandas as pd\n",
    "import numpy as np\n",
    "from sklearn.datasets import fetch_covtype\n",
    "from sklearn.ensemble import RandomForestRegressor\n",
    "\n",
    "# データセットの読み込み\n",
    "covtype = fetch_covtype()\n",
    "\n",
    "#説明変数\n",
    "X_array = covtype.data\n",
    "#目的変数\n",
    "y_array = covtype.target\n",
    "\n",
    "# ランダムフォレストモデルの作成\n",
    "model = RandomForestRegressor()\n",
    "model.fit(X_array, y_array)\n",
    "importances = model.feature_importances_\n",
    "\n",
    "# 特徴量名と重要度を組み合わせたデータフレームを作成\n",
    "importance_df = pd.DataFrame({'feature': covtype.feature_names, 'importance': importances})\n",
    "\n",
    "# 重要度の降順でソート\n",
    "importance_df_sorted = importance_df.sort_values(by='importance', ascending=False)\n",
    "\n",
    "# 特徴量の重要度をテキスト形式で表示\n",
    "print(importance_df_sorted)"
   ]
  },
  {
   "attachments": {},
   "cell_type": "markdown",
   "metadata": {},
   "source": [
    "###### 特徴量の重要度(図示)"
   ]
  },
  {
   "cell_type": "code",
   "execution_count": null,
   "metadata": {},
   "outputs": [],
   "source": [
    "from sklearn.ensemble import RandomForestRegressor\n",
    "\n",
    "model = RandomForestRegressor()\n",
    "model.fit(X_array, y_array)\n",
    "importances = model.feature_importances_\n",
    "\n",
    "# 特徴量の重要度をプロット\n",
    "plt.bar(covtype.feature_names, importances)\n",
    "plt.xlabel(\"Features\")\n",
    "plt.ylabel(\"Importance\")\n",
    "plt.show()"
   ]
  },
  {
   "attachments": {},
   "cell_type": "markdown",
   "metadata": {},
   "source": [
    "##### k-近傍回帰(k-Nearest Neighbors Regression, kNN)"
   ]
  },
  {
   "cell_type": "code",
   "execution_count": null,
   "metadata": {},
   "outputs": [],
   "source": [
    "import pandas as pd\n",
    "import numpy as np\n",
    "from pandas import DataFrame\n",
    "from sklearn.datasets import fetch_covtype\n",
    "from sklearn.neighbors import KNeighborsRegressor  # k-近傍回帰のインポート\n",
    "from sklearn.model_selection import KFold\n",
    "from sklearn.metrics import r2_score\n",
    "\n",
    "# データセットの読み込み\n",
    "covtype = fetch_covtype()\n",
    "\n",
    "#説明変数\n",
    "X_array = covtype.data\n",
    "#目的変数\n",
    "y_array = covtype.target\n",
    "\n",
    "df = DataFrame(X_array, columns=covtype.feature_names).assign(TYPE=np.array(y_array))\n",
    "\n",
    "# k-近傍回帰モデルを作成\n",
    "model = KNeighborsRegressor(n_neighbors=5)  # 決定木回帰からk-近傍回帰に変更\n",
    "\n",
    "# K-分割交差検証法のパラメータ設定\n",
    "k = 5\n",
    "kf = KFold(n_splits=k, shuffle=True, random_state=42)\n",
    "\n",
    "# 予測精度を格納するリスト\n",
    "scores = []\n",
    "\n",
    "# K-分割交差検証法の実行\n",
    "for train_index, test_index in kf.split(X_array, y_array):\n",
    "    X_train, X_test = X_array[train_index], X_array[test_index]\n",
    "    y_train, y_test = y_array[train_index], y_array[test_index]\n",
    "\n",
    "    # モデルを学習\n",
    "    model.fit(X_train, y_train)\n",
    "\n",
    "    # テストデータを用いて予測\n",
    "    y_pred = model.predict(X_test)\n",
    "\n",
    "    # 予測精度を計算 (決定係数 R^2)\n",
    "    score = r2_score(y_test, y_pred)\n",
    "\n",
    "    # 予測精度をリストに追加\n",
    "    scores.append(score)\n",
    "\n",
    "# リスト表示\n",
    "print(scores)\n",
    "# 予測精度の平均値を表示\n",
    "print(f\"R^2(決定係数)の平均値: {np.mean(scores)}\")"
   ]
  },
  {
   "attachments": {},
   "cell_type": "markdown",
   "metadata": {},
   "source": [
    "##### ニューラルネットワーク(Neural Networks)"
   ]
  },
  {
   "cell_type": "code",
   "execution_count": null,
   "metadata": {},
   "outputs": [],
   "source": [
    "import pandas as pd\n",
    "import numpy as np\n",
    "from pandas import DataFrame\n",
    "from sklearn.datasets import fetch_covtype\n",
    "from sklearn.neural_network import MLPRegressor  # ニューラルネットワークのインポート\n",
    "from sklearn.model_selection import KFold\n",
    "from sklearn.metrics import r2_score\n",
    "from sklearn.preprocessing import StandardScaler  # データの標準化のためのインポート\n",
    "\n",
    "# データセットの読み込み\n",
    "covtype = fetch_covtype()\n",
    "\n",
    "#説明変数\n",
    "X_array = covtype.data\n",
    "#目的変数\n",
    "y_array = covtype.target\n",
    "\n",
    "df = DataFrame(X_array, columns=covtype.feature_names).assign(TYPE=np.array(y_array))\n",
    "\n",
    "# ニューラルネットワークモデルを作成\n",
    "model = MLPRegressor(hidden_layer_sizes=(100,), random_state=42)  # k-近傍回帰からニューラルネットワークに変更\n",
    "\n",
    "# K-分割交差検証法のパラメータ設定\n",
    "k = 5\n",
    "kf = KFold(n_splits=k, shuffle=True, random_state=42)\n",
    "\n",
    "# 予測精度を格納するリスト\n",
    "scores = []\n",
    "\n",
    "# データの標準化\n",
    "scaler = StandardScaler()\n",
    "X_array = scaler.fit_transform(X_array)\n",
    "\n",
    "# K-分割交差検証法の実行\n",
    "for train_index, test_index in kf.split(X_array, y_array):\n",
    "    X_train, X_test = X_array[train_index], X_array[test_index]\n",
    "    y_train, y_test = y_array[train_index], y_array[test_index]\n",
    "\n",
    "    # モデルを学習\n",
    "    model.fit(X_train, y_train)\n",
    "\n",
    "    # テストデータを用いて予測\n",
    "    y_pred = model.predict(X_test)\n",
    "\n",
    "    # 予測精度を計算 (決定係数 R^2)\n",
    "    score = r2_score(y_test, y_pred)\n",
    "\n",
    "    # 予測精度をリストに追加\n",
    "    scores.append(score)\n",
    "\n",
    "# リスト表示\n",
    "print(scores)\n",
    "# 予測精度の平均値を表示\n",
    "print(f\"R^2(決定係数)の平均値: {np.mean(scores)}\")\n"
   ]
  },
  {
   "attachments": {},
   "cell_type": "markdown",
   "metadata": {},
   "source": [
    "# 一部、特徴量の削除"
   ]
  },
  {
   "attachments": {},
   "cell_type": "markdown",
   "metadata": {},
   "source": [
    "### 上のランダムフォレストの所で特徴量の重要度を直接取得したことを利用"
   ]
  },
  {
   "attachments": {},
   "cell_type": "markdown",
   "metadata": {},
   "source": [
    "##### k-近傍回帰"
   ]
  },
  {
   "cell_type": "code",
   "execution_count": 1,
   "metadata": {},
   "outputs": [
    {
     "name": "stdout",
     "output_type": "stream",
     "text": [
      "[0.9377386728906056, 0.9381648497237275, 0.9351349393795284, 0.9376362397952525, 0.9370177830120379]\n",
      "R^2(決定係数)の平均値: 0.9371384969602303\n"
     ]
    }
   ],
   "source": [
    "import pandas as pd\n",
    "import numpy as np\n",
    "from pandas import DataFrame\n",
    "from sklearn.datasets import fetch_covtype\n",
    "from sklearn.neighbors import KNeighborsRegressor  # k-近傍回帰のインポート\n",
    "from sklearn.model_selection import KFold\n",
    "from sklearn.metrics import r2_score\n",
    "\n",
    "# データセットの読み込み\n",
    "covtype = fetch_covtype()\n",
    "\n",
    "# 説明変数\n",
    "X_array = covtype.data\n",
    "# 目的変数\n",
    "y_array = covtype.target\n",
    "\n",
    "df = DataFrame(X_array, columns=covtype.feature_names).assign(TYPE=np.array(y_array))\n",
    "\n",
    "# 削除する説明変数を指定\n",
    "columns_to_remove = [\"Soil_Type_6\", \"Soil_Type_14\", \"Soil_Type_17\", \"Soil_Type_7\", \"Soil_Type_35\", \"Soil_Type_8\", \"Soil_Type_24\", \"Soil_Type_27\", \"Soil_Type_25\", \"Soil_Type_11\", \"Soil_Type_20\", \"Soil_Type_18\", \"Soil_Type_15\", \"Soil_Type_0\", \"Soil_Type_33\", \"Soil_Type_2\", \"Soil_Type_26\", \"Soil_Type_13\",]\n",
    "\n",
    "# 説明変数を削除\n",
    "df.drop(columns_to_remove, axis=1, inplace=True)\n",
    "\n",
    "# 新しい説明変数のデータを取得\n",
    "X_array = df.drop(\"TYPE\", axis=1).values\n",
    "\n",
    "# k-近傍回帰モデルを作成\n",
    "model = KNeighborsRegressor()  # 決定木回帰からk-近傍回帰に変更\n",
    "\n",
    "# K-分割交差検証法のパラメータ設定\n",
    "k = 5\n",
    "kf = KFold(n_splits=k, shuffle=True, random_state=42)\n",
    "\n",
    "# 予測精度を格納するリスト\n",
    "scores = []\n",
    "\n",
    "# K-分割交差検証法の実行\n",
    "for train_index, test_index in kf.split(X_array, y_array):\n",
    "    X_train, X_test = X_array[train_index], X_array[test_index]\n",
    "    y_train, y_test = y_array[train_index], y_array[test_index]\n",
    "\n",
    "    # モデルを学習\n",
    "    model.fit(X_train, y_train)\n",
    "\n",
    "    # テストデータを用いて予測\n",
    "    y_pred = model.predict(X_test)\n",
    "\n",
    "    # 予測精度を計算 (決定係数 R^2)\n",
    "    score = r2_score(y_test, y_pred)\n",
    "\n",
    "    # 予測精度をリストに追加\n",
    "    scores.append(score)\n",
    "\n",
    "# リスト表示\n",
    "print(scores)\n",
    "# 予測精度の平均値を表示\n",
    "print(f\"R^2(決定係数)の平均値: {np.mean(scores)}\")\n"
   ]
  },
  {
   "attachments": {},
   "cell_type": "markdown",
   "metadata": {},
   "source": [
    "# 以下、特になし"
   ]
  },
  {
   "attachments": {},
   "cell_type": "markdown",
   "metadata": {},
   "source": [
    "###### 多項式回帰(Polynomial Regression)==遅いため行わず"
   ]
  },
  {
   "cell_type": "code",
   "execution_count": 1,
   "metadata": {},
   "outputs": [],
   "source": [
    "import pandas as pd\n",
    "import numpy as np\n",
    "from pandas import DataFrame\n",
    "from sklearn.datasets import fetch_covtype\n",
    "from sklearn.linear_model import LinearRegression\n",
    "from sklearn.preprocessing import PolynomialFeatures  # 多項式回帰のインポート\n",
    "from sklearn.pipeline import make_pipeline  # パイプラインのインポート\n",
    "from sklearn.model_selection import KFold\n",
    "from sklearn.metrics import r2_score\n",
    "\n",
    "# データセットの読み込み\n",
    "covtype = fetch_covtype()\n",
    "\n",
    "#説明変数\n",
    "X_array = covtype.data\n",
    "#目的変数\n",
    "y_array = covtype.target\n",
    "\n",
    "df = DataFrame(X_array, columns=covtype.feature_names).assign(TYPE=np.array(y_array))\n",
    "\n",
    "# 多項式回帰モデルを作成\n",
    "degree = 2  # 多項式の次数を指定\n",
    "model = make_pipeline(PolynomialFeatures(degree), LinearRegression())  # ニューラルネットワークから多項式回帰に変更\n",
    "\n",
    "# K-分割交差検証法のパラメータ設定\n",
    "k = 5\n",
    "kf = KFold(n_splits=k, shuffle=True, random_state=42)\n",
    "\n",
    "# 予測精度を格納するリスト\n",
    "scores = []\n",
    "\n",
    "# K-分割交差検証法の実行\n",
    "for train_index, test_index in kf.split(X_array, y_array):\n",
    "    X_train, X_test = X_array[train_index], X_array[test_index]\n",
    "    y_train, y_test = y_array[train_index], y_array[test_index]\n",
    "\n",
    "    # モデルを学習\n",
    "    model.fit(X_train, y_train)\n",
    "\n",
    "    # テストデータを用いて予測\n",
    "    y_pred = model.predict(X_test)\n",
    "\n",
    "    # 予測精度を計算 (決定係数 R^2)\n",
    "    score = r2_score(y_test, y_pred)\n",
    "\n",
    "    # 予測精度をリストに追加\n",
    "    scores.append(score)\n",
    "\n",
    "# リスト表示\n",
    "print(scores)\n",
    "# 予測精度の平均値を表示\n",
    "print(f\"R^2(決定係数)の平均値: {np.mean(scores)}\")"
   ]
  },
  {
   "attachments": {},
   "cell_type": "markdown",
   "metadata": {},
   "source": [
    "# 1"
   ]
  }
 ],
 "metadata": {
  "kernelspec": {
   "display_name": "Python 3",
   "language": "python",
   "name": "python3"
  },
  "language_info": {
   "codemirror_mode": {
    "name": "ipython",
    "version": 3
   },
   "file_extension": ".py",
   "mimetype": "text/x-python",
   "name": "python",
   "nbconvert_exporter": "python",
   "pygments_lexer": "ipython3",
   "version": "3.10.10"
  },
  "orig_nbformat": 4
 },
 "nbformat": 4,
 "nbformat_minor": 2
}
